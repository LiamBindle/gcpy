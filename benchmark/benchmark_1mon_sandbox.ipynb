{
 "cells": [
  {
   "cell_type": "markdown",
   "metadata": {},
   "source": [
    "# Compare two GEOS-Chem Classic datasets"
   ]
  },
  {
   "cell_type": "markdown",
   "metadata": {},
   "source": [
    "## Overview of this Notebook\n",
    "\n",
    "* Import dependencies\n",
    "* Load data\n",
    "* bpch vs bpch\n",
    "* netCDF vs netCDF\n",
    "* bpch vs netCDF\n",
    "* Compare restart files (in development)\n",
    "* Use new species categories and lumped species (in development)\n",
    "\n",
    "To Do: \n",
    "* Discuss species lists with Matt Evans\n",
    "* Fill in the rest of the category and species dictionaries (ideally the info would be in JSON files)\n",
    "* Determine additional categories and their consitutents to include in benchmark (e.g. emissions, AOD)\n",
    "* Create dictionary mapping between species and difference plot colorbar fixed range\n",
    "* Create dictionary mapping binary units to netcdf units\n",
    "* Put all dictionaries in JSON files in gcpy"
   ]
  },
  {
   "cell_type": "markdown",
   "metadata": {},
   "source": [
    "## Import dependencies"
   ]
  },
  {
   "cell_type": "code",
   "execution_count": 1,
   "metadata": {},
   "outputs": [],
   "source": [
    "import os\n",
    "import numpy as np\n",
    "import xarray as xr\n",
    "import xbpch\n",
    "import gcpy\n",
    "\n",
    "# Enable auto-reloading modules\n",
    "%load_ext autoreload\n",
    "%autoreload 2\n",
    "\n",
    "%matplotlib inline\n",
    "import warnings; warnings.filterwarnings(\"ignore\")"
   ]
  },
  {
   "cell_type": "markdown",
   "metadata": {},
   "source": [
    "## Load data"
   ]
  },
  {
   "cell_type": "code",
   "execution_count": null,
   "metadata": {},
   "outputs": [],
   "source": [
    "#------------ CUSTOMIZE AS NEEDED ---------------\n",
    "# Shared high-level directory\n",
    "testdir = '/Users/lizzielundgren/gc/data/benchmarking/1mo_prototype/1day_test'\n",
    "\n",
    "# Set directory to store plots\n",
    "plotsdir = os.path.join(testdir,'plots')\n",
    "\n",
    "# Define grid resolution (assume ref and dev are same grid resolution for now. Regridding not implemented yet.)\n",
    "llres = '4x5'\n",
    "\n",
    "# Define comparison type (choose one)\n",
    "#comparison = 'bpch'\n",
    "comparison = 'nc'\n",
    "#comparison = 'bpch_vs_nc'"
   ]
  },
  {
   "cell_type": "code",
   "execution_count": null,
   "metadata": {},
   "outputs": [],
   "source": [
    "#-------------- BPCH ONLY ----------\n",
    "# Edit file and directory strings as needed\n",
    "if 'bpch' in comparison:\n",
    "    \n",
    "    # Always set bpch ref for bpch vs bpch or bpch vs nc\n",
    "    refbpdir = 'bpch'\n",
    "    refbpdiagfile = 'trac_avg.geosfp_4x5_benchmark.201607010000'\n",
    "    refbpfile = os.path.join(testdir, refbpdir, refbpdiagfile)\n",
    "    reftracerinfo = os.path.join(testdir,refbpdir,'tracerinfo.dat') \n",
    "    refdiaginfo = os.path.join(testdir,refbpdir,'diaginfo.dat')\n",
    "    \n",
    "    # Only set bpch dev is doing bpch vs bpch\n",
    "    if comparison == 'bpch':\n",
    "        # bpch dev\n",
    "        devbpdir = 'bpch'\n",
    "        devbpdiagfile = 'trac_avg.geosfp_4x5_benchmark.201607010000'\n",
    "        devbpfile = os.path.join(testdir, devbpdir, devbpdiagfile)\n",
    "        devtracerinfo = os.path.join(testdir,devbpdir,'tracerinfo.dat') \n",
    "        devdiaginfo = os.path.join(testdir,devbpdir,'diaginfo.dat')\n",
    "        \n",
    "        # Check paths\n",
    "        gcpy.check_paths(refbpfile, devbpfile)\n",
    "        gcpy.check_paths(reftracerinfo, devtracerinfo)\n",
    "        gcpy.check_paths(refdiaginfo, devdiaginfo)\n",
    "\n",
    "    print('Loading and processing bpch data...')\n",
    "\n",
    "    # Read the bpch data\n",
    "    refdata = xbpch.open_bpchdataset(refbpfile, tracerinfo_file=reftracerinfo, diaginfo_file=refdiaginfo)\n",
    "    refdata = refdata.transpose('time','lev','lev_edge','lat', 'lon','nv') \n",
    "    refdata = gcpy.convert_bpch_names_to_netcdf_names(refdata)    \n",
    "    if comparison == 'bpch':\n",
    "        devdata = xbpch.open_bpchdataset(devbpfile, tracerinfo_file=devtracerinfo, diaginfo_file=devdiaginfo)\n",
    "        devdata = devdata.transpose('time','lev','lev_edge','lat', 'lon','nv')\n",
    "        devdata = gcpy.convert_bpch_names_to_netcdf_names(devdata)\n",
    "        \n",
    "    # Change the units for concentrations. If ppb or ppbv then change to mol/mol. Will need to do this for\n",
    "    # other binary diagnostic units if they are not the same as netcdf. Ideally put the mapping in a dictionary.\n",
    "    conc_units = ['ppb','ppbv']\n",
    "    for var in refdata.data_vars:\n",
    "        if refdata[var].units.strip() in conc_units:\n",
    "            refdata[var].attrs['units'] = 'mol mol-1 dry'\n",
    "            refdata[var].values = refdata[var].values * 1e-9\n",
    "    if comparison == 'bpch':\n",
    "        for var in refdata.data_vars:\n",
    "            if devdata[var].units.strip() in conc_units:\n",
    "                devdata[var].attrs['units'] = 'mol mol-1 dry'\n",
    "                devdata[var].values = devdata[var].values * 1e-9\n",
    "\n",
    "    print('Complete.')\n",
    "    \n",
    "    # Can now compare files if bpch vs bpch since all diagnostics in one file per version (no collections)\n",
    "    if comparison == 'bpch':\n",
    "        [cmnvars, cmnvars1D, cmcvars2D, cmnvars3D] = gcpy.compare_varnames(refdata, devdata)"
   ]
  },
  {
   "cell_type": "code",
   "execution_count": null,
   "metadata": {},
   "outputs": [],
   "source": [
    "#-------------- NETCDF ONLY ----------\n",
    "# Edit file and directory strings as needed\n",
    "if 'nc' in comparison:\n",
    "\n",
    "    # Always set netcdf dev for nc vs nc or bpch vs nc\n",
    "    devncdir = os.path.join(testdir,'nc')\n",
    "    \n",
    "    # Only set netcdf ref if doing nc vs nc\n",
    "    if comparison == 'nc':\n",
    "        refncdir = os.path.join(testdir,'nc')\n",
    "        gcpy.check_paths(refncdir, devncdir)\n",
    "        \n",
    "    # If doing nc vs nc, compare files to see what collections are common in both versions\n",
    "    if comparison == 'nc':\n",
    "        reffiles = [k for k in os.listdir(refncdir) if '.nc' in k]\n",
    "        devfiles = [k for k in os.listdir(devncdir) if '.nc' in k]\n",
    "        common_files = [k for k in reffiles if k in devfiles]\n",
    "        refonly_files = [k for k in reffiles if k not in devfiles]\n",
    "        devonly_files = [k for k in devfiles if k not in reffiles]\n",
    "        print('Common files: \\n{}'.format(common_files))\n",
    "        print('Ref only files: \\n{}'.format(refonly_files))\n",
    "        print('Dev only files: \\n{}'.format(devonly_files))"
   ]
  },
  {
   "cell_type": "markdown",
   "metadata": {},
   "source": [
    "## Compare diagnostics"
   ]
  },
  {
   "cell_type": "code",
   "execution_count": null,
   "metadata": {},
   "outputs": [],
   "source": [
    "# Three options. Edit ref and dev strings as needed for use in plotting:\n",
    "\n",
    "#--------------------- Option 1: bpch vs bpch -----------------------\n",
    "if 'bpch' in comparison:\n",
    "    refstr='12.0.3'\n",
    "    if comparison == 'bpch':\n",
    "        devstr='12.1.0'\n",
    "\n",
    "#--------------------- Option 2: nc vs nc ----------------------\n",
    "if 'nc' in comparison:\n",
    "    devstr='12.1.0'\n",
    "    if comparison == 'nc':\n",
    "        refstr='12.0.3'\n",
    "\n",
    "#--------------------- Option 3: bpch vs nc ----------------------\n",
    "if comparison == 'bpch_vs_nc':\n",
    "    refstr='Binary diagnostic, 12.1.0'\n",
    "    devstr='Netcdf diagnostic, 12.1.0'\n",
    "    \n",
    "print('Ref: {}'.format(refstr))\n",
    "print('Dev: {}'.format(devstr))"
   ]
  },
  {
   "cell_type": "markdown",
   "metadata": {},
   "source": [
    "### Species concentrations"
   ]
  },
  {
   "cell_type": "code",
   "execution_count": null,
   "metadata": {},
   "outputs": [],
   "source": [
    "#------------ NetCDF diagnostics: get collection ---------------\n",
    "# Edit day and time as needed\n",
    "if 'nc' in comparison:\n",
    "    day = '20160701'\n",
    "    time = '0000'\n",
    "    collection = 'SpeciesConc'\n",
    "    devdata = gcpy.get_collection_data(devncdir, collection, day, time)\n",
    "    if comparison == 'nc':\n",
    "        refdata = gcpy.get_collection_data(refncdir, collection, day, time)\n",
    "    \n",
    "    # If bpch vs nc then refdata will have already been defined, so can now do a comparison no matter what\n",
    "    [cmnvars, cmnvars1D, cmnvars2D, cmnvars3D] = gcpy.compare_varnames(refdata, devdata)"
   ]
  },
  {
   "cell_type": "code",
   "execution_count": null,
   "metadata": {},
   "outputs": [],
   "source": [
    "#------------ CUSTOMIZE VARIABLE LIST DEFINED IN THIS CELL ---------------\n",
    "\n",
    "# All species\n",
    "#desc='spc_conc'\n",
    "#varlist = [k for k in cmnvars if 'SpeciesConc_' in k]\n",
    "\n",
    "# Subset of species\n",
    "desc='Dust'\n",
    "varlist = [k for k in cmnvars if 'DST' in k and 'SpeciesConc' in k]\n",
    "\n",
    "# Single species\n",
    "#desc='Ozone'\n",
    "#varlist = ['SpeciesConc_O3']\n",
    "\n",
    "print('{} variables found'.format(len(varlist)))\n",
    "varlist"
   ]
  },
  {
   "cell_type": "code",
   "execution_count": null,
   "metadata": {},
   "outputs": [],
   "source": [
    "# Surface - quick plot\n",
    "gcpy.compare_single_level( refdata, refstr, devdata, devstr, varlist=['SpeciesConc_DST3'])"
   ]
  },
  {
   "cell_type": "code",
   "execution_count": null,
   "metadata": {},
   "outputs": [],
   "source": [
    "# Surface - PDF\n",
    "pdfname = os.path.join(plotsdir,'{}_surface_{}_diag.pdf'.format(desc,comparison))\n",
    "gcpy.compare_single_level( refdata, refstr, devdata, devstr, varlist=varlist, savepdf=True, pdfname=pdfname )\n",
    "gcpy.add_bookmarks_to_pdf( pdfname, varlist, remove_prefix='SpeciesConc_')"
   ]
  },
  {
   "cell_type": "code",
   "execution_count": null,
   "metadata": {},
   "outputs": [],
   "source": [
    "# Zonal mean - quick plot\n",
    "gcpy.compare_zonal_mean( refdata, refstr, devdata, devstr, varlist=['SpeciesConc_DST3'])"
   ]
  },
  {
   "cell_type": "code",
   "execution_count": null,
   "metadata": {},
   "outputs": [],
   "source": [
    "# Zonal mean - PDF\n",
    "pdfname = os.path.join(plotsdir,'{}_zonalmean_{}_diag.pdf'.format(desc, comparison))\n",
    "gcpy.compare_zonal_mean( refdata, refstr, devdata, devstr, varlist=varlist, savepdf=True, pdfname=pdfname )\n",
    "gcpy.add_bookmarks_to_pdf( pdfname, varlist, remove_prefix='SpeciesConc_')"
   ]
  },
  {
   "cell_type": "markdown",
   "metadata": {},
   "source": [
    "### Emissions"
   ]
  },
  {
   "cell_type": "code",
   "execution_count": null,
   "metadata": {},
   "outputs": [],
   "source": [
    "#------------ NetCDF diagnostics only ---------------\n",
    "# Edit day and time as needed\n",
    "if 'nc' in comparison:\n",
    "    day = '20160701'\n",
    "    time = '0000'\n",
    "    collection = 'Emissions'\n",
    "    devncdata = gcpy.get_collection_data(devncdir, collection, day, time)\n",
    "    devdata = devncdata\n",
    "    if comparison == 'nc':\n",
    "        refncdata = gcpy.get_collection_data(refncdir, collection, day, time)\n",
    "        refdata = refncdata\n",
    "        \n",
    "    # If bpch vs nc then refdata will have already been defined, so can now do a comparison no matter what\n",
    "    [cmnvars, cmnvars1D, cmnvars2D, cmnvars3D] = gcpy.compare_varnames(refdata, devdata)"
   ]
  },
  {
   "cell_type": "code",
   "execution_count": null,
   "metadata": {},
   "outputs": [],
   "source": [
    "#------------ CUSTOMIZE VARIABLE LIST DEFINED IN THIS CELL ---------------\n",
    "\n",
    "# All emissions\n",
    "#desc='emissions'\n",
    "#varlist = [k for k in cmnvars if 'Emis' in k]\n",
    "\n",
    "# Subset of emissions\n",
    "desc='EmisACET'\n",
    "varlist = [k for k in cmnvars if 'EmisACET' in k]\n",
    "\n",
    "# Single emission\n",
    "#desc='EmisACETAnthro'\n",
    "#varlist = ['EmisACET_Anthro']\n",
    "\n",
    "print('{} variables found'.format(len(varlist)))\n",
    "varlist"
   ]
  },
  {
   "cell_type": "code",
   "execution_count": null,
   "metadata": {},
   "outputs": [],
   "source": [
    "devdata['EmisACET_Anthro'].units"
   ]
  },
  {
   "cell_type": "code",
   "execution_count": null,
   "metadata": {},
   "outputs": [],
   "source": [
    "# Surface - quick plot, one emissions\n",
    "gcpy.compare_single_level( refdata, refstr, devdata, devstr, varlist=['EmisACET_Anthro'])\n",
    "\n",
    "# Note: If you get an error that units do not match then you need to update the bpch units change earlier in\n",
    "# this notebook (same cell as data load). Show units with refdata[varname].units and devdata[varname].units.\n",
    "# See also guide for inspecting binary diagnostic units further down in notebook."
   ]
  },
  {
   "cell_type": "code",
   "execution_count": null,
   "metadata": {},
   "outputs": [],
   "source": [
    "# Surface - PDF, all emissions\n",
    "pdfname = os.path.join(plotsdir,'{}_surface_{}_diag.pdf'.format(desc, comparison))\n",
    "gcpy.compare_single_level( refdata, refstr, devdata, devstr, varlist=varlist, savepdf=True, pdfname=pdfname )\n",
    "gcpy.add_bookmarks_to_pdf( pdfname, varlist, remove_prefix='Emis')"
   ]
  },
  {
   "cell_type": "markdown",
   "metadata": {},
   "source": [
    "### AOD"
   ]
  },
  {
   "cell_type": "code",
   "execution_count": null,
   "metadata": {},
   "outputs": [],
   "source": [
    "# TODO"
   ]
  },
  {
   "cell_type": "markdown",
   "metadata": {},
   "source": [
    "### If bpch vs nc, inspect binary diagnostic units if bpch vs netcdf"
   ]
  },
  {
   "cell_type": "code",
   "execution_count": null,
   "metadata": {},
   "outputs": [],
   "source": [
    "# Print all unique units in bpch datasets\n",
    "# unitstrs = []\n",
    "# for var in refbpdata.data_vars:\n",
    "#     if refbpdata[var].units.strip() not in unitstrs:\n",
    "#         unitstrs.append(refbpdata[var].units.strip())\n",
    "# unitstrs"
   ]
  },
  {
   "cell_type": "code",
   "execution_count": null,
   "metadata": {},
   "outputs": [],
   "source": [
    "# Look for instances of certain units in bpch and netcdf datasets\n",
    "# unitstr = 'kg/m2s'\n",
    "\n",
    "# bpvarnames = []\n",
    "# for var in refbpdata.data_vars:\n",
    "#     if devbpdata[var].units.strip() == unitstr:\n",
    "#         bpvarnames.append(var)\n",
    "# bpvarnames\n",
    "\n",
    "# ncvarnames = []\n",
    "# for var in refbpdata.data_vars:\n",
    "#     if devncdata[var].units.strip() == unitstr:\n",
    "#         ncvarnames.append(var)\n",
    "# ncvarnames"
   ]
  },
  {
   "cell_type": "markdown",
   "metadata": {},
   "source": [
    "## Compare restart files (in development)"
   ]
  },
  {
   "cell_type": "code",
   "execution_count": null,
   "metadata": {},
   "outputs": [],
   "source": [
    "#reffile_rst = os.path.join(refbpdir,'GEOSChem_restart.201607010000.nc')\n",
    "#devfile_rst = os.path.join(devbpdir,'GEOSChem_restart.201607010000.nc')\n",
    "#gcpy.check_paths(reffile_rst, devfile_rst)"
   ]
  },
  {
   "cell_type": "code",
   "execution_count": null,
   "metadata": {},
   "outputs": [],
   "source": [
    "#refdata_rst = xr.open_dataset(reffile_rst)\n",
    "#devdata_rst = xr.open_dataset(devfile_rst)\n",
    "#[commonvars, commonvars2D, commonvars3D] = gcpy.compare_varnames(refdata_rst, refstr, devdata_rst, devstr)"
   ]
  },
  {
   "cell_type": "code",
   "execution_count": null,
   "metadata": {},
   "outputs": [],
   "source": [
    "#gcpy.get_stats(refdata_rst, refstr, devdata_rst, devstr, 'SPC_CFC11')"
   ]
  },
  {
   "cell_type": "code",
   "execution_count": null,
   "metadata": {
    "scrolled": true
   },
   "outputs": [],
   "source": [
    "#compare_zonal_mean( refdata_rst, refstr, devdata_rst, devstr, llres, varlist=['SPC_O3'] )"
   ]
  },
  {
   "cell_type": "code",
   "execution_count": null,
   "metadata": {
    "scrolled": false
   },
   "outputs": [],
   "source": [
    "#compare_single_level( refdata_rst, refstr, devdata_rst, devstr, llres, varlist=['SPC_O3'] )"
   ]
  },
  {
   "cell_type": "markdown",
   "metadata": {},
   "source": [
    "## New species categories and lumped variables (in development)"
   ]
  },
  {
   "cell_type": "markdown",
   "metadata": {},
   "source": [
    "NOTE: More discussion is needed to finalize these lists. Several species are not currently outputted and several species that are outputted are not listed here.\n",
    "\n",
    "Primary checks: O3, NOx (NO+NO2), CO, OH, AOD\n",
    "\n",
    "Aerosols: SO4, NIT, NH4, DST1, DST2, DST3, DST3, OCPI, OCPO, BCPI, BCPO, SALC, SALA, SO2s, SOA,\n",
    "\n",
    "Nitrogen: NO, NO2, NO3, N2O5, HNO2, HNO4, CH3O2NO2, HNO3, PAN, PPN, IPMN, N2O, NH4, NH3, NIT, \n",
    "NOx, NOy (gas), NOy (gas+aerosol), NHx\n",
    "\n",
    "ROy: OH, HO2, RO2 (sum all peroxy), O(1D), H2O2, H, H2, H2O, O(3P)\n",
    "\n",
    "Primary Organics\n",
    "  HCs: CH4, C2H6, C2H4, C3H8, PRPE, ALK4, BENZ, TOL, XYLE, ISOP, Monoterpenes\n",
    "  Others: GLYX, HCOOH, MAP, MBO, MOH, RCHO\n",
    "\n",
    "Secondary Organics\n",
    "  Ketone: ACET, MEK, MVK\n",
    "  Aldehydes: ALD2, CH2O, HPALD\n",
    "  Peroxides: CH3OOH, ISOPOOH\n",
    "  Nitrates: ISOPN\n",
    "  Epoxides: IEPOX\n",
    "  Acids: ACTA\n",
    "  Alcohols: MOH, EtOH \n",
    "\n",
    "Sulfur: SO2, DMS, OCS, SO4, SOx (SO2+SO4)\n",
    "\n",
    "Iodine: I, I2, ICl, IBr, IO, HOI, HI, INO2, INO3, OIO, IxOy, AERI+ISALA+ISALC\n",
    "CH3I, CH2I2, CH2ICl, CH2IBr, IOy (I+IO+OIO+x*IxOy), \n",
    "Iy (I+ 2*I2+ ICl+ IBr+ HOI+ HI+ INO2+ INO3+ OIO+ x*IxOy+AERI+ISALA+ISALC)\n",
    "\n",
    "Bromine: Br, BrO, Br2, BrCl, HOBr, HBr, BrNO2, BrNO3, CH3Br, CH2Br2, CHBr3,\n",
    "BrOx(Br+BrO), Bry(Br, BrO, Br2, BrCl, HOBr, HBr, BrNO2, BrNO3)\n",
    "\n",
    "Chlorine: Cl, ClO, Cl2, HOCl, HCl, Cl2O2, ClOO, ClNO2, ClNO3, OClO,\n",
    "CCl4, CH3Cl, CH2Cl2, CH3CCl3, SUM(CFC11, CFC12, CFC113, CFC114, CFC115),\n",
    "SUM(H1211, H1302, H2402), SUM(HCFC123, HCFC141b, HCFC142b),\n",
    "ClOx (Cl+ClO), Cly (Cl, ClO, 2*Cl2, HOCl, HCl, Cl2O2, ClOO, ClNO2, ClNO3, OClO)\n"
   ]
  },
  {
   "cell_type": "code",
   "execution_count": 2,
   "metadata": {},
   "outputs": [],
   "source": [
    "# Load species conc collection\n",
    "reffile = '/Users/lizzielundgren/gc/data/benchmarking/1mo_prototype/1hr_data_all_spc/12.2.0/GEOSChem.SpeciesConc.20160701_0000z.nc4'\n",
    "devfile = '/Users/lizzielundgren/gc/data/benchmarking/1mo_prototype/1hr_data_all_spc/12.2.0/GEOSChem.SpeciesConc.20160701_0000z.nc4'\n",
    "dsref = xr.open_dataset(reffile)\n",
    "dsdev = xr.open_dataset(devfile)"
   ]
  },
  {
   "cell_type": "code",
   "execution_count": 3,
   "metadata": {},
   "outputs": [
    {
     "name": "stdout",
     "output_type": "stream",
     "text": [
      "285 common variables\n",
      "0 variables in ref only\n",
      "0 variables in dev only\n",
      "All variables have same dimensions in ref and dev\n"
     ]
    }
   ],
   "source": [
    "refstr = '12.2.0'\n",
    "devstr = '12.2.0'"
   ]
  },
  {
   "cell_type": "code",
   "execution_count": 11,
   "metadata": {},
   "outputs": [
    {
     "name": "stdout",
     "output_type": "stream",
     "text": [
      "Warning: OLDN needed for NOy not in dataset.\n",
      "Warning: ONIT needed for NOy not in dataset.\n",
      "Warning: PMNO2 needed for NOy not in dataset.\n",
      "Warning: BrO2 needed for RO2 not in dataset.\n",
      "Warning: PMNO2 needed for RO2 not in dataset.\n",
      "Warning: OLDN needed for NOy not in dataset.\n",
      "Warning: ONIT needed for NOy not in dataset.\n",
      "Warning: PMNO2 needed for NOy not in dataset.\n",
      "Warning: BrO2 needed for RO2 not in dataset.\n",
      "Warning: PMNO2 needed for RO2 not in dataset.\n",
      "Archiving benchmark_categories.json in /Users/lizzielundgren/gc/1mo_benchmark\n",
      "Archiving lumped_species.json in /Users/lizzielundgren/gc/1mo_benchmark\n",
      "\n",
      "\n",
      "Warning: variables in Primary category not in dataset: ['SpeciesConc_NOx', 'SpeciesConc_AOD']\n",
      "\n",
      "Creating /Users/lizzielundgren/gc/1mo_benchmark/Primary/Primary_Surface.pdf for 3 variables\n",
      "0 1 2 \n",
      "Creating /Users/lizzielundgren/gc/1mo_benchmark/Primary/Primary_500hPa.pdf for 3 variables\n",
      "0 1 2 \n",
      "Creating /Users/lizzielundgren/gc/1mo_benchmark/Primary/Primary_ZonalMean.pdf for 3 variables\n",
      "0 1 2 \n",
      "\n",
      "Warning: variables in SOA category not in dataset: ['SpeciesConc_SOA Simple', 'SpeciesConc_SOA Complex']\n",
      "\n",
      "Creating /Users/lizzielundgren/gc/1mo_benchmark/Aerosols/Aerosols_Surface.pdf for 20 variables\n",
      "0 1 2 3 4 5 6 7 8 9 10 11 12 13 14 15 16 17 18 19 \n",
      "Creating /Users/lizzielundgren/gc/1mo_benchmark/Aerosols/Aerosols_500hPa.pdf for 20 variables\n",
      "0 1 2 3 4 5 6 7 8 9 10 11 12 13 14 15 16 17 18 19 \n",
      "Creating /Users/lizzielundgren/gc/1mo_benchmark/Aerosols/Aerosols_ZonalMean.pdf for 20 variables\n",
      "0 1 2 3 4 5 6 7 8 9 10 11 12 13 14 15 16 17 18 19 \n",
      "\n",
      "Warning: variables in Nitrogen category not in dataset: ['SpeciesConc_NOx', 'SpeciesConc_NOy', 'SpeciesConc_NHx', 'SpeciesConc_NHx']\n",
      "\n",
      "Creating /Users/lizzielundgren/gc/1mo_benchmark/Nitrogen/Nitrogen_Surface.pdf for 15 variables\n",
      "0 1 2 3 4 5 6 7 8 9 10 11 12 13 14 \n",
      "Creating /Users/lizzielundgren/gc/1mo_benchmark/Nitrogen/Nitrogen_500hPa.pdf for 15 variables\n",
      "0 1 2 3 4 5 6 7 8 9 10 11 12 13 14 \n",
      "Creating /Users/lizzielundgren/gc/1mo_benchmark/Nitrogen/Nitrogen_ZonalMean.pdf for 15 variables\n",
      "0 1 2 3 4 5 6 7 8 9 10 11 12 13 14 \n",
      "\n",
      "Warning: variables in ROy category not in dataset: ['SpeciesConc_RO2']\n",
      "\n",
      "Creating /Users/lizzielundgren/gc/1mo_benchmark/ROy/ROy_Surface.pdf for 7 variables\n",
      "0 1 2 3 4 5 6 \n",
      "Creating /Users/lizzielundgren/gc/1mo_benchmark/ROy/ROy_500hPa.pdf for 7 variables\n",
      "0 1 2 3 4 5 6 \n",
      "Creating /Users/lizzielundgren/gc/1mo_benchmark/ROy/ROy_ZonalMean.pdf for 7 variables\n",
      "0 1 2 3 4 5 6 \n",
      "\n",
      "Warning: variables in Sulfur category not in dataset: ['SpeciesConc_SOx']\n",
      "\n",
      "Creating /Users/lizzielundgren/gc/1mo_benchmark/Sulfur/Sulfur_Surface.pdf for 4 variables\n",
      "0 1 2 3 \n",
      "Creating /Users/lizzielundgren/gc/1mo_benchmark/Sulfur/Sulfur_500hPa.pdf for 4 variables\n",
      "0 1 2 3 \n",
      "Creating /Users/lizzielundgren/gc/1mo_benchmark/Sulfur/Sulfur_ZonalMean.pdf for 4 variables\n",
      "0 1 2 3 \n",
      "\n",
      "Warning: variables in Iodine category not in dataset: ['SpeciesConc_IxOy', 'SpeciesConc_Iy']\n",
      "\n",
      "Creating /Users/lizzielundgren/gc/1mo_benchmark/Iodine/Iodine_Surface.pdf for 14 variables\n",
      "0 1 2 3 4 5 6 7 8 9 10 11 12 13 \n",
      "Creating /Users/lizzielundgren/gc/1mo_benchmark/Iodine/Iodine_500hPa.pdf for 14 variables\n",
      "0 1 2 3 4 5 6 7 8 9 10 11 12 13 \n",
      "Creating /Users/lizzielundgren/gc/1mo_benchmark/Iodine/Iodine_ZonalMean.pdf for 14 variables\n",
      "0 1 2 3 4 5 6 7 8 9 10 11 12 13 \n",
      "\n",
      "Warning: variables in Bromine category not in dataset: ['SpeciesConc_BrOx', 'SpeciesConc_Bry']\n",
      "\n",
      "Creating /Users/lizzielundgren/gc/1mo_benchmark/Bromine/Bromine_Surface.pdf for 11 variables\n",
      "0 1 2 3 4 5 6 7 8 9 10 \n",
      "Creating /Users/lizzielundgren/gc/1mo_benchmark/Bromine/Bromine_500hPa.pdf for 11 variables\n",
      "0 1 2 3 4 5 6 7 8 9 10 \n",
      "Creating /Users/lizzielundgren/gc/1mo_benchmark/Bromine/Bromine_ZonalMean.pdf for 11 variables\n",
      "0 1 2 3 4 5 6 7 8 9 10 \n",
      "\n",
      "Warning: variables in Chlorine category not in dataset: ['SpeciesConc_CH3Cl2', 'SpeciesConc_CFCs', 'SpeciesConc_Halons', 'SpeciesConc_HCFCs', 'SpeciesConc_ClOx', 'SpeciesConc_Cly']\n",
      "\n",
      "Creating /Users/lizzielundgren/gc/1mo_benchmark/Chlorine/Chlorine_Surface.pdf for 13 variables\n",
      "0 1 2 3 4 5 6 7 8 9 10 11 12 \n",
      "Creating /Users/lizzielundgren/gc/1mo_benchmark/Chlorine/Chlorine_500hPa.pdf for 13 variables\n",
      "0 1 2 3 4 5 6 7 8 9 10 11 12 \n",
      "Creating /Users/lizzielundgren/gc/1mo_benchmark/Chlorine/Chlorine_ZonalMean.pdf for 13 variables\n",
      "0 1 2 3 4 5 6 7 8 9 10 11 12 \n",
      "\n",
      "Warning: variables in HCs category not in dataset: ['SpeciesConc_C2H4']\n",
      "\n",
      "\n",
      "Warning: variables in Biogenics category not in dataset: ['SpeciesConc_C2H4', 'SpeciesConc_Alpha-pinene', 'SpeciesConc_B-pinene']\n",
      "\n",
      "\n",
      "Warning: variables in Other category not in dataset: ['SpeciesConc_C2H4', 'SpeciesConc_Alpha-pinene', 'SpeciesConc_B-pinene', 'SpeciesConc_MVO', 'SpeciesConc_RCHP']\n",
      "\n",
      "Creating /Users/lizzielundgren/gc/1mo_benchmark/Primary_Organics/Primary_Organics_Surface.pdf for 13 variables\n",
      "0 1 2 3 4 5 6 7 8 9 10 11 12 \n",
      "Creating /Users/lizzielundgren/gc/1mo_benchmark/Primary_Organics/Primary_Organics_500hPa.pdf for 13 variables\n",
      "0 1 2 3 4 5 6 7 8 9 10 11 12 \n",
      "Creating /Users/lizzielundgren/gc/1mo_benchmark/Primary_Organics/Primary_Organics_ZonalMean.pdf for 13 variables\n",
      "0 1 2 3 4 5 6 7 8 9 10 11 12 \n",
      "\n",
      "Warning: variables in Nitrates category not in dataset: ['SpeciesConc_ISOPN']\n",
      "\n",
      "\n",
      "Warning: variables in Epoxides category not in dataset: ['SpeciesConc_ISOPN', 'SpeciesConc_IEPOX']\n",
      "\n",
      "\n",
      "Warning: variables in Acids category not in dataset: ['SpeciesConc_ISOPN', 'SpeciesConc_IEPOX']\n",
      "\n",
      "\n",
      "Warning: variables in Alcohols category not in dataset: ['SpeciesConc_ISOPN', 'SpeciesConc_IEPOX']\n",
      "\n",
      "Creating /Users/lizzielundgren/gc/1mo_benchmark/Secondary_Organics/Secondary_Organics_Surface.pdf for 10 variables\n",
      "0 1 2 3 4 5 6 7 8 9 \n",
      "Creating /Users/lizzielundgren/gc/1mo_benchmark/Secondary_Organics/Secondary_Organics_500hPa.pdf for 10 variables\n",
      "0 1 2 3 4 5 6 7 8 9 \n",
      "Creating /Users/lizzielundgren/gc/1mo_benchmark/Secondary_Organics/Secondary_Organics_ZonalMean.pdf for 10 variables\n",
      "0 1 2 3 4 5 6 7 8 9 "
     ]
    }
   ],
   "source": [
    " gcpy.benchmark.make_gcc_1mo_benchmark_conc_plots(dsref, refstr, dsdev, devstr, '/Users/lizzielundgren/gc')"
   ]
  },
  {
   "cell_type": "code",
   "execution_count": null,
   "metadata": {},
   "outputs": [],
   "source": []
  }
 ],
 "metadata": {
  "kernelspec": {
   "display_name": "Python 3",
   "language": "python",
   "name": "python3"
  },
  "language_info": {
   "codemirror_mode": {
    "name": "ipython",
    "version": 3
   },
   "file_extension": ".py",
   "mimetype": "text/x-python",
   "name": "python",
   "nbconvert_exporter": "python",
   "pygments_lexer": "ipython3",
   "version": "3.6.7"
  }
 },
 "nbformat": 4,
 "nbformat_minor": 2
}
